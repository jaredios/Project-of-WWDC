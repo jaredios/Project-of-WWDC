{
 "cells": [
  {
   "cell_type": "code",
   "execution_count": null,
   "id": "2d9d22b6",
   "metadata": {},
   "outputs": [
    {
     "name": "stdout",
     "output_type": "stream",
     "text": [
      "Requirement already satisfied: newspaper3k in ./anaconda3/lib/python3.11/site-packages (0.2.8)\n",
      "Requirement already satisfied: beautifulsoup4>=4.4.1 in ./anaconda3/lib/python3.11/site-packages (from newspaper3k) (4.12.2)\n",
      "Requirement already satisfied: Pillow>=3.3.0 in ./anaconda3/lib/python3.11/site-packages (from newspaper3k) (9.4.0)\n",
      "Requirement already satisfied: PyYAML>=3.11 in ./anaconda3/lib/python3.11/site-packages (from newspaper3k) (6.0)\n",
      "Requirement already satisfied: cssselect>=0.9.2 in ./anaconda3/lib/python3.11/site-packages (from newspaper3k) (1.1.0)\n",
      "Requirement already satisfied: lxml>=3.6.0 in ./anaconda3/lib/python3.11/site-packages (from newspaper3k) (4.9.3)\n",
      "Requirement already satisfied: nltk>=3.2.1 in ./anaconda3/lib/python3.11/site-packages (from newspaper3k) (3.8.1)\n",
      "Requirement already satisfied: requests>=2.10.0 in ./anaconda3/lib/python3.11/site-packages (from newspaper3k) (2.31.0)\n",
      "Requirement already satisfied: feedparser>=5.2.1 in ./anaconda3/lib/python3.11/site-packages (from newspaper3k) (6.0.11)\n",
      "Requirement already satisfied: tldextract>=2.0.1 in ./anaconda3/lib/python3.11/site-packages (from newspaper3k) (3.2.0)\n",
      "Requirement already satisfied: feedfinder2>=0.0.4 in ./anaconda3/lib/python3.11/site-packages (from newspaper3k) (0.0.4)\n",
      "Requirement already satisfied: jieba3k>=0.35.1 in ./anaconda3/lib/python3.11/site-packages (from newspaper3k) (0.35.1)\n",
      "Requirement already satisfied: python-dateutil>=2.5.3 in ./anaconda3/lib/python3.11/site-packages (from newspaper3k) (2.8.2)\n",
      "Requirement already satisfied: tinysegmenter==0.3 in ./anaconda3/lib/python3.11/site-packages (from newspaper3k) (0.3)\n",
      "Requirement already satisfied: soupsieve>1.2 in ./anaconda3/lib/python3.11/site-packages (from beautifulsoup4>=4.4.1->newspaper3k) (2.4)\n",
      "Requirement already satisfied: six in ./anaconda3/lib/python3.11/site-packages (from feedfinder2>=0.0.4->newspaper3k) (1.16.0)\n",
      "Requirement already satisfied: sgmllib3k in ./anaconda3/lib/python3.11/site-packages (from feedparser>=5.2.1->newspaper3k) (1.0.0)\n",
      "Requirement already satisfied: click in ./anaconda3/lib/python3.11/site-packages (from nltk>=3.2.1->newspaper3k) (8.0.4)\n",
      "Requirement already satisfied: joblib in ./anaconda3/lib/python3.11/site-packages (from nltk>=3.2.1->newspaper3k) (1.2.0)\n",
      "Requirement already satisfied: regex>=2021.8.3 in ./anaconda3/lib/python3.11/site-packages (from nltk>=3.2.1->newspaper3k) (2022.7.9)\n",
      "Requirement already satisfied: tqdm in ./anaconda3/lib/python3.11/site-packages (from nltk>=3.2.1->newspaper3k) (4.65.0)\n",
      "Requirement already satisfied: charset-normalizer<4,>=2 in ./anaconda3/lib/python3.11/site-packages (from requests>=2.10.0->newspaper3k) (2.0.4)\n",
      "Requirement already satisfied: idna<4,>=2.5 in ./anaconda3/lib/python3.11/site-packages (from requests>=2.10.0->newspaper3k) (3.4)\n",
      "Requirement already satisfied: urllib3<3,>=1.21.1 in ./anaconda3/lib/python3.11/site-packages (from requests>=2.10.0->newspaper3k) (1.26.16)\n",
      "Requirement already satisfied: certifi>=2017.4.17 in ./anaconda3/lib/python3.11/site-packages (from requests>=2.10.0->newspaper3k) (2023.7.22)\n",
      "Requirement already satisfied: requests-file>=1.4 in ./anaconda3/lib/python3.11/site-packages (from tldextract>=2.0.1->newspaper3k) (1.5.1)\n",
      "Requirement already satisfied: filelock>=3.0.8 in ./anaconda3/lib/python3.11/site-packages (from tldextract>=2.0.1->newspaper3k) (3.9.0)\n",
      "Note: you may need to restart the kernel to use updated packages.\n"
     ]
    }
   ],
   "source": [
    "pip install newspaper3k"
   ]
  },
  {
   "cell_type": "code",
   "execution_count": null,
   "id": "0516b5d3",
   "metadata": {},
   "outputs": [],
   "source": [
    "from newspaper import Article\n",
    "from nltk import pos_tag, word_tokenize\n",
    "from urllib.request import urlopen\n",
    "from urllib.parse import urlsplit\n",
    "from pathlib import Path\n",
    "from bs4 import BeautifulSoup\n",
    "import nltk\n",
    "import re\n",
    "\n",
    "all_tokens = []\n",
    "\n",
    "def get_transcript(url):\n",
    "    article = Article(url)\n",
    "    article.download()\n",
    "    article.parse()\n",
    "    text = article.text\n",
    "\n",
    "    data = urlopen(url).read()\n",
    "    soup = BeautifulSoup(data, 'html.parser')\n",
    "    content = soup.find('section', class_='body-content')\n",
    "\n",
    "    tokens = [word_tokenize(sent) for sent in nltk.sent_tokenize(text)]\n",
    "    tagged = [pos_tag(sent) for sent in tokens]\n",
    "\n",
    "    # Extract the year from the URL using regular expression\n",
    "    year_match = re.search(r'/(\\d{4})-', url)\n",
    "    \n",
    "    if year_match:\n",
    "        year = year_match.group(1)\n",
    "\n",
    "        folder = Path('singjupost')\n",
    "        filename = folder / (f'{year}_{urlsplit(url).path.replace(\"/\", \"_\")}.txt')\n",
    "        folder.mkdir(exist_ok=True)\n",
    "\n",
    "        with open(filename, 'w') as f:\n",
    "            for sent in tagged:\n",
    "                for w, t in sent:\n",
    "                    print(w, t, sep='_', end=' ', file=f)\n",
    "                print(file=f)\n",
    "\n",
    "        all_tokens.extend(tokens)\n",
    "\n",
    "links = [\n",
    "    'https://singjupost.com/full-transcript-tim-cook-at-apple-wwdc-2020-keynote/?singlepage=1',\n",
    "    'https://singjupost.com/full-transcript-tim-cook-at-apple-wwdc-2019-keynote/?singlepage=1',\n",
    "    'https://singjupost.com/tim-cook-at-apple-wwdc-2018-keynote-full-transcript/?singlepage=1',\n",
    "    'https://singjupost.com/apple-ceo-tim-cook-keynote-at-wwdc-2017-full-transcript/?singlepage=1',\n",
    "    'https://singjupost.com/apple-ceo-tim-cook-keynote-at-wwdc-2016-full-transcript/?singlepage=1',\n",
    "    'https://singjupost.com/apple-wwdc-2015-keynote-special-event-june-2015-full-transcript/?singlepage=1',\n",
    "    'https://singjupost.com/apple-ceo-tim-cook-keynote-wwdc-june-2014-transcript/?singlepage=1',\n",
    "    'https://singjupost.com/apple-ceo-tim-cook-keynote-wwdc-june-2013-conference-transcript/?singlepage=1',\n",
    "    'https://singjupost.com/steve-jobs-introduces-iphone-4-facetime-at-wwdc-2010-full-transcript/?singlepage=1',\n",
    "    'https://singjupost.com/steve-jobs-iphone-2007-presentation-full-transcript/?singlepage=1',\n",
    "]\n"
   ]
  },
  {
   "cell_type": "code",
   "execution_count": null,
   "id": "284c409c",
   "metadata": {},
   "outputs": [],
   "source": [
    "corpus_folder = Path('singjupost')\n",
    "\n",
    "corpus = TaggedCorpusReader(str(corpus_folder), r'[\\.].*\\.txt', sep='_')\n",
    "\n",
    "words = corpus.words()\n",
    "sample_text = ' '.join(words[:100])"
   ]
  },
  {
   "cell_type": "code",
   "execution_count": null,
   "id": "281038f9",
   "metadata": {},
   "outputs": [
    {
     "data": {
      "text/plain": [
       "195338"
      ]
     },
     "execution_count": 4,
     "metadata": {},
     "output_type": "execute_result"
    }
   ],
   "source": [
    "len(corpus.words())"
   ]
  },
  {
   "cell_type": "code",
   "execution_count": null,
   "id": "3f1d2356",
   "metadata": {},
   "outputs": [],
   "source": [
    "import nltk\n",
    "from nltk.collocations import *\n"
   ]
  },
  {
   "cell_type": "code",
   "execution_count": null,
   "id": "877c69aa",
   "metadata": {},
   "outputs": [],
   "source": [
    "tokens = list(corpus.words())\n",
    "bigram_measures = nltk.collocations.BigramAssocMeasures()\n",
    "finder = BigramCollocationFinder.from_words(tokens)"
   ]
  },
  {
   "cell_type": "code",
   "execution_count": null,
   "id": "d4e8bc42",
   "metadata": {},
   "outputs": [],
   "source": [
    "def notalpha(s):\n",
    "    return not s.isalpha()\n",
    "\n",
    "finder.apply_word_filter(notalpha)"
   ]
  },
  {
   "cell_type": "code",
   "execution_count": null,
   "id": "4a2a217b",
   "metadata": {},
   "outputs": [
    {
     "data": {
      "text/plain": [
       "[('going', 'to'),\n",
       " ('you', 'can'),\n",
       " ('I', 'can'),\n",
       " ('want', 'to'),\n",
       " ('of', 'course'),\n",
       " ('look', 'at'),\n",
       " ('as', 'well'),\n",
       " ('App', 'Store'),\n",
       " ('d', 'like'),\n",
       " ('on', 'the')]"
      ]
     },
     "execution_count": 8,
     "metadata": {},
     "output_type": "execute_result"
    }
   ],
   "source": [
    "finder.nbest(bigram_measures.likelihood_ratio, 10)"
   ]
  },
  {
   "cell_type": "code",
   "execution_count": null,
   "id": "7e12f319",
   "metadata": {},
   "outputs": [],
   "source": [
    "finder.apply_freq_filter(10)"
   ]
  },
  {
   "cell_type": "code",
   "execution_count": null,
   "id": "f3c10d33",
   "metadata": {},
   "outputs": [
    {
     "data": {
      "text/plain": [
       "[('Final', 'Cut'),\n",
       " ('Stacey', 'Lysik'),\n",
       " ('Big', 'Sur'),\n",
       " ('Industrial', 'Light'),\n",
       " ('Lydia', 'Winters'),\n",
       " ('Saxs', 'Persson'),\n",
       " ('sneak', 'peek'),\n",
       " ('Lauren', 'Ridge'),\n",
       " ('El', 'Capitan'),\n",
       " ('Imran', 'Chaudhri')]"
      ]
     },
     "execution_count": 10,
     "metadata": {},
     "output_type": "execute_result"
    }
   ],
   "source": [
    "finder.nbest(bigram_measures.pmi, 10)"
   ]
  },
  {
   "cell_type": "code",
   "execution_count": null,
   "id": "4be49d51",
   "metadata": {},
   "outputs": [
    {
     "data": {
      "text/plain": [
       "[('going', 'to'),\n",
       " ('you', 'can'),\n",
       " ('I', 'can'),\n",
       " ('want', 'to'),\n",
       " ('of', 'course'),\n",
       " ('look', 'at'),\n",
       " ('as', 'well'),\n",
       " ('App', 'Store'),\n",
       " ('d', 'like'),\n",
       " ('on', 'the')]"
      ]
     },
     "execution_count": 11,
     "metadata": {},
     "output_type": "execute_result"
    }
   ],
   "source": [
    "finder.nbest(bigram_measures.likelihood_ratio, 10)"
   ]
  },
  {
   "cell_type": "code",
   "execution_count": null,
   "id": "38e5a0a1",
   "metadata": {},
   "outputs": [
    {
     "data": {
      "text/plain": [
       "[('m', 'going', 'to'),\n",
       " ('re', 'going', 'to'),\n",
       " ('going', 'to', 'be'),\n",
       " ('going', 'to', 'make'),\n",
       " ('going', 'to', 'show'),\n",
       " ('going', 'to', 'do'),\n",
       " ('am', 'going', 'to'),\n",
       " ('going', 'to', 'get'),\n",
       " ('going', 'to', 'go'),\n",
       " ('going', 'to', 'bring')]"
      ]
     },
     "execution_count": 12,
     "metadata": {},
     "output_type": "execute_result"
    }
   ],
   "source": [
    "trigram_measures = nltk.collocations.TrigramAssocMeasures()\n",
    "finder3 = TrigramCollocationFinder.from_words(tokens)\n",
    "finder3.apply_word_filter(notalpha)\n",
    "finder3.apply_freq_filter(10)\n",
    "finder3.nbest(trigram_measures.likelihood_ratio, 10)"
   ]
  },
  {
   "cell_type": "code",
   "execution_count": null,
   "id": "aa61c596",
   "metadata": {},
   "outputs": [
    {
     "data": {
      "text/plain": [
       "[('Tweet', 'Pinterest', 'Email'),\n",
       " ('shares', 'Share', 'Tweet'),\n",
       " ('Do', 'Not', 'Disturb'),\n",
       " ('Share', 'Tweet', 'Pinterest'),\n",
       " ('New', 'York', 'Times'),\n",
       " ('Chief', 'Creative', 'Officer'),\n",
       " ('third', 'party', 'apps'),\n",
       " ('iOS', 'software', 'program'),\n",
       " ('Industrial', 'Light', 'and'),\n",
       " ('Light', 'and', 'Magic')]"
      ]
     },
     "execution_count": 13,
     "metadata": {},
     "output_type": "execute_result"
    }
   ],
   "source": [
    "finder3.nbest(trigram_measures.pmi, 10)"
   ]
  },
  {
   "cell_type": "code",
   "execution_count": null,
   "id": "806ccd27",
   "metadata": {},
   "outputs": [
    {
     "data": {
      "text/plain": [
       "[('I', 'want', 'to'),\n",
       " ('re', 'going', 'to'),\n",
       " ('m', 'going', 'to'),\n",
       " ('d', 'like', 'to'),\n",
       " ('I', 'can', 'just'),\n",
       " ('going', 'to', 'be'),\n",
       " ('you', 'can', 'see'),\n",
       " ('take', 'a', 'look'),\n",
       " ('s', 'take', 'a'),\n",
       " ('a', 'look', 'at')]"
      ]
     },
     "execution_count": 14,
     "metadata": {},
     "output_type": "execute_result"
    }
   ],
   "source": [
    "finder3.nbest(trigram_measures.raw_freq, 10)"
   ]
  },
  {
   "cell_type": "code",
   "execution_count": null,
   "id": "5ca0e116",
   "metadata": {},
   "outputs": [
    {
     "data": {
      "text/plain": [
       "[('I', 'want', 'to'),\n",
       " ('re', 'going', 'to'),\n",
       " ('m', 'going', 'to'),\n",
       " ('d', 'like', 'to'),\n",
       " ('I', 'can', 'just'),\n",
       " ('going', 'to', 'be'),\n",
       " ('you', 'can', 'see'),\n",
       " ('take', 'a', 'look'),\n",
       " ('s', 'take', 'a'),\n",
       " ('a', 'look', 'at')]"
      ]
     },
     "execution_count": 15,
     "metadata": {},
     "output_type": "execute_result"
    }
   ],
   "source": [
    "finder3.nbest(trigram_measures.raw_freq, 10)"
   ]
  },
  {
   "cell_type": "code",
   "execution_count": null,
   "id": "be38ed25",
   "metadata": {},
   "outputs": [
    {
     "data": {
      "text/plain": [
       "[('Final', 'Cut'),\n",
       " ('Stacey', 'Lysik'),\n",
       " ('Big', 'Sur'),\n",
       " ('Industrial', 'Light'),\n",
       " ('Lydia', 'Winters'),\n",
       " ('Saxs', 'Persson'),\n",
       " ('sneak', 'peek'),\n",
       " ('Lauren', 'Ridge'),\n",
       " ('El', 'Capitan'),\n",
       " ('Imran', 'Chaudhri')]"
      ]
     },
     "execution_count": 16,
     "metadata": {},
     "output_type": "execute_result"
    }
   ],
   "source": [
    "import re\n",
    "\n",
    "def caps(s):\n",
    "    return re.search(r'^([A-Z][A-Z]+|Q)$', s)\n",
    "\n",
    "finder.apply_word_filter(caps)\n",
    "finder.nbest(bigram_measures.pmi, 10)"
   ]
  },
  {
   "cell_type": "code",
   "execution_count": null,
   "id": "f79bf167",
   "metadata": {},
   "outputs": [
    {
     "data": {
      "text/plain": [
       "0.347"
      ]
     },
     "execution_count": 17,
     "metadata": {},
     "output_type": "execute_result"
    }
   ],
   "source": [
    "import nltk\n",
    "from nltk.tokenize import WhitespaceTokenizer, RegexpTokenizer\n",
    "import re\n",
    "from toolz import partition\n",
    "\n",
    "%precision 3\n",
    "def normalize(text):\n",
    "    return [tok.lower() for tok in text if tok.isalpha()]\n",
    "\n",
    "def ttr(text):\n",
    "    text = normalize(text)\n",
    "    return len(set(text)) / len(text)\n",
    "\n",
    "def msttr(text, k=2000):\n",
    "    text = normalize(text)\n",
    "    ttrs = [ttr(chunk) for chunk in partition(k, text)]\n",
    "    return sum(ttrs) / len(ttrs)\n",
    "msttr(corpus.words(), k=1000)\n"
   ]
  },
  {
   "cell_type": "code",
   "execution_count": null,
   "id": "35109299",
   "metadata": {},
   "outputs": [
    {
     "name": "stdout",
     "output_type": "stream",
     "text": [
      "Year 2016 WWDC MSTR: 0.334\n",
      "Year 2017 WWDC MSTR: 0.353\n",
      "Year 2013 WWDC MSTR: 0.335\n",
      "Year 2014 WWDC MSTR: 0.342\n",
      "Year 2015 WWDC MSTR: 0.342\n",
      "Year 2019 WWDC MSTR: 0.372\n",
      "Year 2020 WWDC MSTR: 0.373\n",
      "Year 2010 WWDC MSTR: 0.323\n",
      "Year 2007 WWDC MSTR: 0.301\n",
      "Year 2018 WWDC MSTR: 0.356\n"
     ]
    }
   ],
   "source": [
    "for file_id in corpus.fileids():\n",
    "    # Extract the year from the file_id using a different regular expression\n",
    "    year_match = re.search(r'(\\d{4})[^0-9]', file_id)\n",
    "\n",
    "    if year_match:\n",
    "        year = year_match.group(1)\n",
    "        words_in_category = corpus.words(file_id)\n",
    "        score = msttr(words_in_category, k=1000)\n",
    "        print(f'Year {year} WWDC MSTR: {score:.3f}')"
   ]
  },
  {
   "cell_type": "code",
   "execution_count": null,
   "id": "2bdc9af9",
   "metadata": {},
   "outputs": [
    {
     "data": {
      "image/png": "[encoded data removed]",
      "text/plain": [
       "<Figure size 1000x600 with 1 Axes>"
      ]
     },
     "metadata": {},
     "output_type": "display_data"
    }
   ],
   "source": [
    "import matplotlib.pyplot as plt\n",
    "import numpy as np\n",
    "\n",
    "years, scores = zip(*(sorted((int(re.search(r'(\\d{4})[^0-9]', file_id).group(1)), msttr(corpus.words(file_id), k=1000)) for file_id in corpus.fileids())))\n",
    "\n",
    "plt.figure(figsize=(10, 6))\n",
    "plt.scatter(years, scores, color='blue', marker='o', label='Data Points')\n",
    "plt.xlabel('Year')\n",
    "plt.ylabel('MSTTR Score')\n",
    "plt.title('MSTTR Score Over the Years')\n",
    "plt.grid(axis='both')\n",
    "\n",
    "# Linear regression\n",
    "coefficients = np.polyfit(years, scores, 1)\n",
    "polynomial = np.poly1d(coefficients)\n",
    "line_x = np.linspace(min(years), max(years), 100)\n",
    "line_y = polynomial(line_x)\n",
    "plt.plot(line_x, line_y, color='red', label='Linear Regression')\n",
    "\n",
    "plt.legend()\n",
    "plt.show()\n"
   ]
  },
  {
   "cell_type": "code",
   "execution_count": 20,
   "id": "278dc289",
   "metadata": {},
   "outputs": [
    {
     "name": "stdout",
     "output_type": "stream",
     "text": [
      "Year 2016 WWDC FK: 6.285\n",
      "Year 2017 WWDC FK: 7.985\n",
      "Year 2013 WWDC FK: 5.787\n",
      "Year 2014 WWDC FK: 5.971\n",
      "Year 2015 WWDC FK: 6.533\n",
      "Year 2019 WWDC FK: 5.940\n",
      "Year 2020 WWDC FK: 6.981\n",
      "Year 2010 WWDC FK: 5.462\n",
      "Year 2007 WWDC FK: 2.970\n",
      "Year 2018 WWDC FK: 7.665\n"
     ]
    }
   ],
   "source": [
    "import nltk\n",
    "import re\n",
    "from nltk.tokenize import word_tokenize, sent_tokenize\n",
    "\n",
    "# Custom function to count syllables in a word\n",
    "cmudict = nltk.corpus.cmudict.dict()\n",
    "\n",
    "def syllables(word):\n",
    "    if word.lower() in cmudict:\n",
    "        return len([p for p in cmudict[word.lower()][0] if p[-1].isdigit()])\n",
    "    else:\n",
    "        return len(re.findall(r'[aeiou]+', word.lower()))\n",
    "\n",
    "# Custom function to calculate Flesch-Kincaid readability score\n",
    "def fk(text):\n",
    "    words = len(word_tokenize(text))\n",
    "    sylls = sum([syllables(w) for w in word_tokenize(text)])\n",
    "    sents = len(sent_tokenize(text))\n",
    "    return 0.39 * (words/sents) + 11.8 * (sylls/words) - 15.59\n",
    "\n",
    "# Calculate and print Flesch-Kincaid scores for each file in the corpus\n",
    "for file_id in corpus.fileids():\n",
    "    # Extract the year from the file_id using a different regular expression\n",
    "    year_match = re.search(r'(\\d{4})[^0-9]', file_id)\n",
    "\n",
    "    if year_match:\n",
    "        year = year_match.group(1)\n",
    "        full_text = corpus.raw(file_id)\n",
    "        score = fk(full_text)\n",
    "        print(f'Year {year} WWDC FK: {score:.3f}')\n"
   ]
  },
  {
   "cell_type": "code",
   "execution_count": 21,
   "id": "d9c0a475",
   "metadata": {},
   "outputs": [
    {
     "data": {
      "image/png": "[encoded data removed]",
      "text/plain": [
       "<Figure size 1000x600 with 1 Axes>"
      ]
     },
     "metadata": {},
     "output_type": "display_data"
    }
   ],
   "source": [
    "import matplotlib.pyplot as plt\n",
    "import numpy as np\n",
    "\n",
    "years, scores = zip(*(sorted((int(re.search(r'(\\d{4})[^0-9]', file_id).group(1)), fk(corpus.raw(file_id))) for file_id in corpus.fileids())))\n",
    "\n",
    "plt.figure(figsize=(10, 6))\n",
    "plt.scatter(years, scores, color='red', marker='o', label='Data Points')\n",
    "plt.xlabel('Year')\n",
    "plt.ylabel('Flesch-Kincaid Score')\n",
    "plt.title('Flesch-Kincaid Readability Score Over the Years')\n",
    "plt.grid(axis='both')\n",
    "\n",
    "# Linear regression\n",
    "coefficients = np.polyfit(years, scores, 1)\n",
    "polynomial = np.poly1d(coefficients)\n",
    "line_x = np.linspace(min(years), max(years), 100)\n",
    "line_y = polynomial(line_x)\n",
    "plt.plot(line_x, line_y, color='blue', label='Linear Regression')\n",
    "\n",
    "plt.legend()\n",
    "plt.show()"
   ]
  },
  {
   "cell_type": "code",
   "execution_count": null,
   "id": "5fc02bb6",
   "metadata": {},
   "outputs": [],
   "source": [
    " "
   ]
  }
 ],
 "metadata": {
  "kernelspec": {
   "display_name": "Python 3 (ipykernel)",
   "language": "python",
   "name": "python3"
  },
  "language_info": {
   "codemirror_mode": {
    "name": "ipython",
    "version": 3
   },
   "file_extension": ".py",
   "mimetype": "text/x-python",
   "name": "python",
   "nbconvert_exporter": "python",
   "pygments_lexer": "ipython3",
   "version": "3.11.5"
  }
 },
 "nbformat": 4,
 "nbformat_minor": 5
}
